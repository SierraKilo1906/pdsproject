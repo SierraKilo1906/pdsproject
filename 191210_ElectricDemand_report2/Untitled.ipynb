{
 "cells": [
  {
   "cell_type": "code",
   "execution_count": 1,
   "metadata": {},
   "outputs": [],
   "source": [
    "import requests\n",
    "url = \"http://api.worldweatheronline.com/premium/v1/weather.ashx?key=34c185ae3c024d52862220102192911&q=Pittsburgh&format=json&num_of_days=6\"\n",
    "response = requests.get(url)"
   ]
  },
  {
   "cell_type": "code",
   "execution_count": 67,
   "metadata": {},
   "outputs": [],
   "source": [
    "import pandas as pd\n",
    "output = response.json()\n",
    "data = output['data']['weather']\n",
    "\n",
    "\n",
    "#print(output['data']['weather'][1]['date'])\n",
    "\n",
    "overall = []\n",
    "overall.append(['date','time','HeatIndexC','WindChillC','DewPointC','temp'])\n",
    "for i in range(1,len(data)):\n",
    "    date = data[i]['date']\n",
    "    weather_data = data[i]['hourly']\n",
    "    \n",
    "    for j in range(len(weather_data)):\n",
    "        row = []\n",
    "        temp = weather_data[j]['tempC']\n",
    "        time = weather_data[j]['time']\n",
    "        heatidx = weather_data[j]['HeatIndexC']\n",
    "        windchill = weather_data[j]['WindChillC']\n",
    "        dewpoint = weather_data[j]['DewPointC']\n",
    "        row.append(date)\n",
    "        row.append(time)\n",
    "        row.append(heatidx)\n",
    "        row.append(windchill)\n",
    "        row.append(dewpoint)\n",
    "        row.append(temp)\n",
    "        overall.append(row)\n",
    "    \n",
    "pd.DataFrame(overall).to_csv('forecast2.csv')\n",
    "#print(type(data[0]['hourly'][0]))\n",
    "\n",
    "# for i in range(len(data)):\n",
    "#     day_data = data[i]\n",
    "#     for j in day_data:\n",
    "#         print(j)\n",
    "\n",
    "#print(type(output['data']))\n",
    "\n"
   ]
  },
  {
   "cell_type": "code",
   "execution_count": null,
   "metadata": {},
   "outputs": [],
   "source": []
  }
 ],
 "metadata": {
  "kernelspec": {
   "display_name": "Python 3",
   "language": "python",
   "name": "python3"
  },
  "language_info": {
   "codemirror_mode": {
    "name": "ipython",
    "version": 3
   },
   "file_extension": ".py",
   "mimetype": "text/x-python",
   "name": "python",
   "nbconvert_exporter": "python",
   "pygments_lexer": "ipython3",
   "version": "3.7.3"
  }
 },
 "nbformat": 4,
 "nbformat_minor": 2
}
